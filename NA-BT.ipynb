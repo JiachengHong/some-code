{
 "cells": [
  {
   "cell_type": "code",
   "execution_count": 2,
   "id": "48f1a5ba",
   "metadata": {
    "ExecuteTime": {
     "end_time": "2022-07-19T11:32:31.418369Z",
     "start_time": "2022-07-19T11:32:16.721307Z"
    }
   },
   "outputs": [],
   "source": [
    "import h5py\n",
    "import numpy as np\n",
    "import xarray as xr\n",
    "import os"
   ]
  },
  {
   "cell_type": "code",
   "execution_count": 3,
   "id": "65f6da2e",
   "metadata": {
    "ExecuteTime": {
     "end_time": "2022-07-19T11:32:31.434162Z",
     "start_time": "2022-07-19T11:32:31.421195Z"
    }
   },
   "outputs": [],
   "source": [
    "c_dir=\"F:/BT/NA\""
   ]
  },
  {
   "cell_type": "code",
   "execution_count": 4,
   "id": "9fbfea62",
   "metadata": {
    "ExecuteTime": {
     "end_time": "2022-07-19T11:33:18.071399Z",
     "start_time": "2022-07-19T11:32:33.960469Z"
    }
   },
   "outputs": [
    {
     "name": "stderr",
     "output_type": "stream",
     "text": [
      "<ipython-input-4-d9a4816701ef>:25: RuntimeWarning: Mean of empty slice\n",
      "  bt_mean_200km[i]=np.nanmean(s_1)\n",
      "<ipython-input-4-d9a4816701ef>:26: RuntimeWarning: Mean of empty slice\n",
      "  bt_mean_300km[i]=np.nanmean(s_2)\n"
     ]
    }
   ],
   "source": [
    "for filename in os.listdir(c_dir):\n",
    "    if 2018 >= int(filename[:4]):\n",
    "        domain = os.path.abspath(c_dir)  \n",
    "        dataFile = os.path.join(domain, filename) \n",
    "        data_dict = h5py.File(dataFile,\"r\")\n",
    "        BT = data_dict[\"bt_rotate\"]\n",
    "        BT= np.squeeze(BT)\n",
    "        lat = data_dict[\"lat_all\"]\n",
    "        lon = data_dict[\"lon_all\"]\n",
    "        time = data_dict[\"time_all\"]\n",
    "        wind = data_dict[\"wind_all\"]\n",
    "        area_200km=np.ones(np.size(BT,0))*np.nan\n",
    "        area_300km=np.ones(np.size(BT,0))*np.nan\n",
    "        bt_mean_200km=np.ones(np.size(BT,0))*np.nan\n",
    "        bt_mean_300km=np.ones(np.size(BT,0))*np.nan\n",
    "        for i in range(np.size(BT,0)):\n",
    "            s=BT[i,:,:]\n",
    "            y,x=np.ogrid[0:100,0:100]\n",
    "            mask1 = (x-50)**2+(y-50)**2<=20**2 \n",
    "            mask2 = (x-50)**2+(y-50)**2<=30**2\n",
    "            s_1 = s[mask1]\n",
    "            s_2 = s[mask2]\n",
    "            area_200km[i]=np.size(s_1[s_1<=208])/np.size(s_1) *(20**2)*np.pi*100\n",
    "            area_300km[i]=np.size(s_2[s_2<=208])/np.size(s_2) *(30**2)*np.pi*100\n",
    "            bt_mean_200km[i]=np.nanmean(s_1)\n",
    "            bt_mean_300km[i]=np.nanmean(s_2)\n",
    "        \n",
    "        area_200km[np.isnan(bt_mean_200km)]=np.nan\n",
    "        area_300km[np.isnan(bt_mean_300km)]=np.nan\n",
    "        \n",
    "        BT_AREA = xr.Dataset({'area_200km':area_200km,'area_300km':area_300km,'bt_mean_200km':bt_mean_200km,'bt_mean_300km':bt_mean_300km},coords={'wind': np.squeeze(wind),'lat': np.squeeze(lat),\n",
    "                                                                         'lon': np.squeeze(lon),'year': time[0],'month': time[1],'day': time[2],'hour': time[3]})\n",
    "        BT_AREA.to_netcdf(\"F:/NA_BT_AREA/\" +  dataFile[-15:-4] +\".nc\")"
   ]
  },
  {
   "cell_type": "code",
   "execution_count": null,
   "id": "00125de2",
   "metadata": {},
   "outputs": [],
   "source": []
  }
 ],
 "metadata": {
  "kernelspec": {
   "display_name": "Python 3",
   "language": "python",
   "name": "python3"
  },
  "language_info": {
   "codemirror_mode": {
    "name": "ipython",
    "version": 3
   },
   "file_extension": ".py",
   "mimetype": "text/x-python",
   "name": "python",
   "nbconvert_exporter": "python",
   "pygments_lexer": "ipython3",
   "version": "3.8.8"
  },
  "toc": {
   "base_numbering": 1,
   "nav_menu": {},
   "number_sections": true,
   "sideBar": true,
   "skip_h1_title": false,
   "title_cell": "Table of Contents",
   "title_sidebar": "Contents",
   "toc_cell": false,
   "toc_position": {},
   "toc_section_display": true,
   "toc_window_display": false
  }
 },
 "nbformat": 4,
 "nbformat_minor": 5
}
